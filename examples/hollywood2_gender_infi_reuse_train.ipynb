{
 "cells": [
  {
   "cell_type": "code",
   "execution_count": 1,
   "metadata": {},
   "outputs": [],
   "source": [
    "import sys\n",
    "sys.path.append(\"..\")\n",
    "import os\n",
    "# os.environ[\"CUDA_VISIBLE_DEVICES\"]='-1' # disable GPU\n",
    "from datasets.hollywood2 import build_hollywood2_image_pair_dataset\n",
    "from infi_tf import build_infi_reuse, train_infi_reuse"
   ]
  },
  {
   "cell_type": "code",
   "execution_count": 2,
   "metadata": {},
   "outputs": [],
   "source": [
    "d_train = build_hollywood2_image_pair_dataset(list_path=\"../datasets/Hollywood2/list_pair_gc_train.txt\",\n",
    "                                              root_path=\"../datasets/Hollywood2/frames/\")"
   ]
  },
  {
   "cell_type": "code",
   "execution_count": 3,
   "metadata": {},
   "outputs": [],
   "source": [
    "d_test = build_hollywood2_image_pair_dataset(list_path=\"../datasets/Hollywood2/list_pair_gc_test.txt\",\n",
    "                                             root_path=\"../datasets/Hollywood2/frames/\")"
   ]
  },
  {
   "cell_type": "code",
   "execution_count": 4,
   "metadata": {},
   "outputs": [
    {
     "name": "stdout",
     "output_type": "stream",
     "text": [
      "Model: \"model_1\"\n",
      "__________________________________________________________________________________________________\n",
      "Layer (type)                    Output Shape         Param #     Connected to                     \n",
      "==================================================================================================\n",
      "input-1 (InputLayer)            [(None, 224, 224, 3) 0                                            \n",
      "__________________________________________________________________________________________________\n",
      "input-2 (InputLayer)            [(None, 224, 224, 3) 0                                            \n",
      "__________________________________________________________________________________________________\n",
      "model (Functional)              (None, 200)          24486       input-1[0][0]                    \n",
      "                                                                 input-2[0][0]                    \n",
      "__________________________________________________________________________________________________\n",
      "tf.math.subtract (TFOpLambda)   (None, 200)          0           model[0][0]                      \n",
      "                                                                 model[1][0]                      \n",
      "__________________________________________________________________________________________________\n",
      "tf.math.abs (TFOpLambda)        (None, 200)          0           tf.math.subtract[0][0]           \n",
      "__________________________________________________________________________________________________\n",
      "dense_1 (Dense)                 (None, 1)            201         tf.math.abs[0][0]                \n",
      "==================================================================================================\n",
      "Total params: 24,687\n",
      "Trainable params: 24,687\n",
      "Non-trainable params: 0\n",
      "__________________________________________________________________________________________________\n"
     ]
    }
   ],
   "source": [
    "infi = build_infi_reuse(modality=\"image\",\n",
    "                        input_shape=(224, 224, 3), n_dense=200, n_layers=2, n_filters=32)\n",
    "infi.summary()"
   ]
  },
  {
   "cell_type": "code",
   "execution_count": 5,
   "metadata": {},
   "outputs": [
    {
     "name": "stdout",
     "output_type": "stream",
     "text": [
      "Epoch 1/20\n",
      "103/103 [==============================] - 128s 1s/step - loss: 0.3013 - binary_accuracy: 0.5158 - val_loss: 0.2492 - val_binary_accuracy: 0.5288\n",
      "Epoch 2/20\n",
      "103/103 [==============================] - 122s 1s/step - loss: 0.2587 - binary_accuracy: 0.5063 - val_loss: 0.2497 - val_binary_accuracy: 0.5181\n",
      "Epoch 3/20\n",
      "103/103 [==============================] - 121s 1s/step - loss: 0.2549 - binary_accuracy: 0.5229 - val_loss: 0.2505 - val_binary_accuracy: 0.5017\n",
      "Epoch 4/20\n",
      "103/103 [==============================] - 186s 2s/step - loss: 0.2487 - binary_accuracy: 0.5474 - val_loss: 0.2500 - val_binary_accuracy: 0.4915\n",
      "Epoch 5/20\n",
      "103/103 [==============================] - 202s 2s/step - loss: 0.2430 - binary_accuracy: 0.5613 - val_loss: 0.2508 - val_binary_accuracy: 0.5107\n",
      "Epoch 6/20\n",
      "103/103 [==============================] - 199s 2s/step - loss: 0.2402 - binary_accuracy: 0.5842 - val_loss: 0.2502 - val_binary_accuracy: 0.5074\n",
      "Epoch 7/20\n",
      "103/103 [==============================] - 169s 2s/step - loss: 0.2330 - binary_accuracy: 0.6268 - val_loss: 0.2512 - val_binary_accuracy: 0.5175\n",
      "Epoch 8/20\n",
      "103/103 [==============================] - 192s 2s/step - loss: 0.2252 - binary_accuracy: 0.6314 - val_loss: 0.2514 - val_binary_accuracy: 0.5051\n",
      "Epoch 9/20\n",
      "103/103 [==============================] - 187s 2s/step - loss: 0.2230 - binary_accuracy: 0.6419 - val_loss: 0.2523 - val_binary_accuracy: 0.5130\n",
      "Epoch 10/20\n",
      "103/103 [==============================] - 159s 2s/step - loss: 0.2163 - binary_accuracy: 0.6754 - val_loss: 0.2554 - val_binary_accuracy: 0.4926\n",
      "Epoch 11/20\n",
      "103/103 [==============================] - 215s 2s/step - loss: 0.1981 - binary_accuracy: 0.6976 - val_loss: 0.2577 - val_binary_accuracy: 0.5051\n",
      "Epoch 12/20\n",
      "103/103 [==============================] - 239s 2s/step - loss: 0.1946 - binary_accuracy: 0.7071 - val_loss: 0.2579 - val_binary_accuracy: 0.4938\n",
      "Epoch 13/20\n",
      "103/103 [==============================] - 207s 2s/step - loss: 0.1791 - binary_accuracy: 0.7540 - val_loss: 0.2580 - val_binary_accuracy: 0.5028\n",
      "Epoch 14/20\n",
      "103/103 [==============================] - 126s 1s/step - loss: 0.1558 - binary_accuracy: 0.7924 - val_loss: 0.2740 - val_binary_accuracy: 0.5362\n",
      "Epoch 15/20\n",
      "103/103 [==============================] - 124s 1s/step - loss: 0.1435 - binary_accuracy: 0.8135 - val_loss: 0.2751 - val_binary_accuracy: 0.5260\n",
      "Epoch 16/20\n",
      "103/103 [==============================] - 123s 1s/step - loss: 0.1324 - binary_accuracy: 0.8302 - val_loss: 0.2801 - val_binary_accuracy: 0.5407\n",
      "Epoch 17/20\n",
      "103/103 [==============================] - 122s 1s/step - loss: 0.1266 - binary_accuracy: 0.8407 - val_loss: 0.2768 - val_binary_accuracy: 0.5209\n",
      "Epoch 18/20\n",
      "103/103 [==============================] - 127s 1s/step - loss: 0.1073 - binary_accuracy: 0.8698 - val_loss: 0.2788 - val_binary_accuracy: 0.5283\n",
      "Epoch 19/20\n",
      "103/103 [==============================] - 127s 1s/step - loss: 0.1084 - binary_accuracy: 0.8662 - val_loss: 0.3245 - val_binary_accuracy: 0.5164\n",
      "Epoch 20/20\n",
      "103/103 [==============================] - 125s 1s/step - loss: 0.1024 - binary_accuracy: 0.8776 - val_loss: 0.2852 - val_binary_accuracy: 0.5238\n"
     ]
    }
   ],
   "source": [
    "res = train_infi_reuse(infi, d_train,\n",
    "                       learning_rate=0.001, batch_size=16, epochs=20,\n",
    "                       val_data=d_test, log_dir=\"logs/hollywood2_gc_reuse/\",\n",
    "                       weight_dir=\"weights/hollywood2_gc_reuse/\")\n",
    "best_val_acc = max(res.history['val_binary_accuracy'])"
   ]
  },
  {
   "cell_type": "code",
   "execution_count": null,
   "metadata": {},
   "outputs": [],
   "source": []
  }
 ],
 "metadata": {
  "kernelspec": {
   "display_name": "wfilter",
   "language": "python",
   "name": "wfilter"
  },
  "language_info": {
   "codemirror_mode": {
    "name": "ipython",
    "version": 3
   },
   "file_extension": ".py",
   "mimetype": "text/x-python",
   "name": "python",
   "nbconvert_exporter": "python",
   "pygments_lexer": "ipython3",
   "version": "3.7.10"
  }
 },
 "nbformat": 4,
 "nbformat_minor": 4
}
