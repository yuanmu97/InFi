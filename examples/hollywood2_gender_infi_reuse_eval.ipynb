{
 "cells": [
  {
   "cell_type": "code",
   "execution_count": 1,
   "metadata": {},
   "outputs": [],
   "source": [
    "import matplotlib.pyplot as plt\n",
    "import os\n",
    "os.environ[\"CUDA_VISIBLE_DEVICES\"]=\"-1\"\n",
    "import sys\n",
    "sys.path.append(\"..\")\n",
    "from datasets.hollywood2 import build_hollywood2_image_dataset, build_hollywood2_image_pair_dataset\n",
    "from infi_tf import load_infi_reuse\n",
    "import numpy as np\n",
    "from sklearn.neighbors import NearestNeighbors"
   ]
  },
  {
   "cell_type": "code",
   "execution_count": 2,
   "metadata": {},
   "outputs": [
    {
     "name": "stdout",
     "output_type": "stream",
     "text": [
      "Model: \"model_1\"\n",
      "__________________________________________________________________________________________________\n",
      "Layer (type)                    Output Shape         Param #     Connected to                     \n",
      "==================================================================================================\n",
      "input-1 (InputLayer)            [(None, 224, 224, 3) 0                                            \n",
      "__________________________________________________________________________________________________\n",
      "input-2 (InputLayer)            [(None, 224, 224, 3) 0                                            \n",
      "__________________________________________________________________________________________________\n",
      "model (Functional)              (None, 200)          24486       input-1[0][0]                    \n",
      "                                                                 input-2[0][0]                    \n",
      "__________________________________________________________________________________________________\n",
      "tf.math.subtract (TFOpLambda)   (None, 200)          0           model[0][0]                      \n",
      "                                                                 model[1][0]                      \n",
      "__________________________________________________________________________________________________\n",
      "tf.math.abs (TFOpLambda)        (None, 200)          0           tf.math.subtract[0][0]           \n",
      "__________________________________________________________________________________________________\n",
      "dense_1 (Dense)                 (None, 1)            201         tf.math.abs[0][0]                \n",
      "==================================================================================================\n",
      "Total params: 24,687\n",
      "Trainable params: 24,687\n",
      "Non-trainable params: 0\n",
      "__________________________________________________________________________________________________\n"
     ]
    }
   ],
   "source": [
    "infi = load_infi_reuse(\"weights/hollywood2_gc_reuse/20230618-204304-Epoch20.h5\")\n",
    "infi.summary()"
   ]
  },
  {
   "cell_type": "code",
   "execution_count": 3,
   "metadata": {},
   "outputs": [
    {
     "name": "stdout",
     "output_type": "stream",
     "text": [
      "Model: \"model\"\n",
      "__________________________________________________________________________________________________\n",
      "Layer (type)                    Output Shape         Param #     Connected to                     \n",
      "==================================================================================================\n",
      "input_1 (InputLayer)            [(None, 224, 224, 3) 0                                            \n",
      "__________________________________________________________________________________________________\n",
      "activation (Activation)         (None, 224, 224, 3)  0           input_1[0][0]                    \n",
      "__________________________________________________________________________________________________\n",
      "separable_conv2d (SeparableConv (None, 224, 224, 32) 155         activation[0][0]                 \n",
      "__________________________________________________________________________________________________\n",
      "layer_normalization (LayerNorma (None, 224, 224, 32) 64          separable_conv2d[0][0]           \n",
      "__________________________________________________________________________________________________\n",
      "activation_1 (Activation)       (None, 224, 224, 32) 0           layer_normalization[0][0]        \n",
      "__________________________________________________________________________________________________\n",
      "separable_conv2d_1 (SeparableCo (None, 224, 224, 32) 1344        activation_1[0][0]               \n",
      "__________________________________________________________________________________________________\n",
      "activation_2 (Activation)       (None, 224, 224, 3)  0           input_1[0][0]                    \n",
      "__________________________________________________________________________________________________\n",
      "layer_normalization_1 (LayerNor (None, 224, 224, 32) 64          separable_conv2d_1[0][0]         \n",
      "__________________________________________________________________________________________________\n",
      "separable_conv2d_2 (SeparableCo (None, 112, 112, 32) 131         activation_2[0][0]               \n",
      "__________________________________________________________________________________________________\n",
      "max_pooling2d (MaxPooling2D)    (None, 112, 112, 32) 0           layer_normalization_1[0][0]      \n",
      "__________________________________________________________________________________________________\n",
      "layer_normalization_2 (LayerNor (None, 112, 112, 32) 64          separable_conv2d_2[0][0]         \n",
      "__________________________________________________________________________________________________\n",
      "add (Add)                       (None, 112, 112, 32) 0           max_pooling2d[0][0]              \n",
      "                                                                 layer_normalization_2[0][0]      \n",
      "__________________________________________________________________________________________________\n",
      "activation_3 (Activation)       (None, 112, 112, 32) 0           add[0][0]                        \n",
      "__________________________________________________________________________________________________\n",
      "separable_conv2d_3 (SeparableCo (None, 112, 112, 64) 2400        activation_3[0][0]               \n",
      "__________________________________________________________________________________________________\n",
      "layer_normalization_3 (LayerNor (None, 112, 112, 64) 128         separable_conv2d_3[0][0]         \n",
      "__________________________________________________________________________________________________\n",
      "activation_4 (Activation)       (None, 112, 112, 64) 0           layer_normalization_3[0][0]      \n",
      "__________________________________________________________________________________________________\n",
      "separable_conv2d_4 (SeparableCo (None, 112, 112, 64) 4736        activation_4[0][0]               \n",
      "__________________________________________________________________________________________________\n",
      "activation_5 (Activation)       (None, 112, 112, 32) 0           add[0][0]                        \n",
      "__________________________________________________________________________________________________\n",
      "layer_normalization_4 (LayerNor (None, 112, 112, 64) 128         separable_conv2d_4[0][0]         \n",
      "__________________________________________________________________________________________________\n",
      "separable_conv2d_5 (SeparableCo (None, 56, 56, 64)   2144        activation_5[0][0]               \n",
      "__________________________________________________________________________________________________\n",
      "max_pooling2d_1 (MaxPooling2D)  (None, 56, 56, 64)   0           layer_normalization_4[0][0]      \n",
      "__________________________________________________________________________________________________\n",
      "layer_normalization_5 (LayerNor (None, 56, 56, 64)   128         separable_conv2d_5[0][0]         \n",
      "__________________________________________________________________________________________________\n",
      "add_1 (Add)                     (None, 56, 56, 64)   0           max_pooling2d_1[0][0]            \n",
      "                                                                 layer_normalization_5[0][0]      \n",
      "__________________________________________________________________________________________________\n",
      "global_max_pooling2d (GlobalMax (None, 64)           0           add_1[0][0]                      \n",
      "__________________________________________________________________________________________________\n",
      "flatten (Flatten)               (None, 64)           0           global_max_pooling2d[0][0]       \n",
      "__________________________________________________________________________________________________\n",
      "dense (Dense)                   (None, 200)          13000       flatten[0][0]                    \n",
      "__________________________________________________________________________________________________\n",
      "dropout (Dropout)               (None, 200)          0           dense[0][0]                      \n",
      "==================================================================================================\n",
      "Total params: 24,486\n",
      "Trainable params: 24,486\n",
      "Non-trainable params: 0\n",
      "__________________________________________________________________________________________________\n"
     ]
    }
   ],
   "source": [
    "# use the embedding module to compute features\n",
    "emb_model = infi.layers[2]\n",
    "emb_model.summary()"
   ]
  },
  {
   "cell_type": "code",
   "execution_count": 4,
   "metadata": {},
   "outputs": [],
   "source": [
    "# compute embeddings\n",
    "x_test = build_hollywood2_image_dataset(list_path=\"../datasets/Hollywood2/list_test.txt\",\n",
    "                                        root_path=\"../datasets/Hollywood2/frames/\").batch(10)\n",
    "emb_test = emb_model.predict(x_test)"
   ]
  },
  {
   "cell_type": "code",
   "execution_count": 5,
   "metadata": {},
   "outputs": [
    {
     "data": {
      "text/plain": [
       "(884, 200)"
      ]
     },
     "execution_count": 5,
     "metadata": {},
     "output_type": "execute_result"
    }
   ],
   "source": [
    "emb_test.shape"
   ]
  },
  {
   "cell_type": "markdown",
   "metadata": {},
   "source": [
    "Then you can use the 200-dim embeddings for K-Nearest-Neighbor retrieval.\n",
    "\n",
    "Note that, InFi-Reuse uses a learnable similarity function, i.e., the last dense layer."
   ]
  },
  {
   "cell_type": "code",
   "execution_count": 19,
   "metadata": {},
   "outputs": [],
   "source": [
    "# define customized distance function to use sklearn KNN\n",
    "def mydist(x, y):\n",
    "    def sigmoid(z):\n",
    "        return 1/(1+np.exp(-z))\n",
    "    \n",
    "    global clf_w, clf_b\n",
    "    sim = sigmoid(np.dot(np.abs(x - y), clf_w) + clf_b)\n",
    "    return 1-sim"
   ]
  },
  {
   "cell_type": "code",
   "execution_count": 10,
   "metadata": {},
   "outputs": [
    {
     "data": {
      "text/plain": [
       "array([[0.5299884]], dtype=float32)"
      ]
     },
     "execution_count": 10,
     "metadata": {},
     "output_type": "execute_result"
    }
   ],
   "source": [
    "# checking consistency\n",
    "x_temp = build_hollywood2_image_pair_dataset(list_path=\"../datasets/Hollywood2/list_pair_gc_test.txt\",\n",
    "                                             root_path=\"../datasets/Hollywood2/frames/\", load_label=False).batch(1)\n",
    "x_elem = next(iter(x_temp))\n",
    "infi_out = infi.predict(x_elem)\n",
    "infi_out"
   ]
  },
  {
   "cell_type": "code",
   "execution_count": 23,
   "metadata": {},
   "outputs": [
    {
     "data": {
      "text/plain": [
       "array([[0.4700116]], dtype=float32)"
      ]
     },
     "execution_count": 23,
     "metadata": {},
     "output_type": "execute_result"
    }
   ],
   "source": [
    "infi_out = infi.predict(x_elem)\n",
    "1-infi_out"
   ]
  },
  {
   "cell_type": "code",
   "execution_count": 24,
   "metadata": {},
   "outputs": [
    {
     "data": {
      "text/plain": [
       "array([0.4700116], dtype=float32)"
      ]
     },
     "execution_count": 24,
     "metadata": {},
     "output_type": "execute_result"
    }
   ],
   "source": [
    "emb0 = emb_model.predict(x_elem[0])[0]\n",
    "emb1 = emb_model.predict(x_elem[1])[0]\n",
    "mydist(emb0, emb1)"
   ]
  },
  {
   "cell_type": "markdown",
   "metadata": {},
   "source": [
    "we can see that these two results are identical."
   ]
  },
  {
   "cell_type": "code",
   "execution_count": 26,
   "metadata": {},
   "outputs": [
    {
     "data": {
      "text/plain": [
       "NearestNeighbors(metric=<function mydist at 0x0000029FB71E53A8>, n_neighbors=10)"
      ]
     },
     "execution_count": 26,
     "metadata": {},
     "output_type": "execute_result"
    }
   ],
   "source": [
    "cached_emb = emb_test[:100]\n",
    "\n",
    "nbrs = NearestNeighbors(n_neighbors=10, metric=mydist)\n",
    "nbrs.fit(cached_emb)"
   ]
  },
  {
   "cell_type": "code",
   "execution_count": 31,
   "metadata": {},
   "outputs": [
    {
     "data": {
      "text/plain": [
       "(array([[0.25247723, 0.26649195, 0.27525902, 0.28641641, 0.28749996,\n",
       "         0.2923674 , 0.29436862, 0.29524779, 0.31441182, 0.31470031]]),\n",
       " array([[98, 80, 94, 32,  4, 18, 15, 24, 51, 26]], dtype=int64))"
      ]
     },
     "execution_count": 31,
     "metadata": {},
     "output_type": "execute_result"
    }
   ],
   "source": [
    "new_emb = emb_test[101:102]\n",
    "nbrs.kneighbors(new_emb)"
   ]
  }
 ],
 "metadata": {
  "kernelspec": {
   "display_name": "wfilter",
   "language": "python",
   "name": "wfilter"
  },
  "language_info": {
   "codemirror_mode": {
    "name": "ipython",
    "version": 3
   },
   "file_extension": ".py",
   "mimetype": "text/x-python",
   "name": "python",
   "nbconvert_exporter": "python",
   "pygments_lexer": "ipython3",
   "version": "3.7.10"
  }
 },
 "nbformat": 4,
 "nbformat_minor": 4
}
