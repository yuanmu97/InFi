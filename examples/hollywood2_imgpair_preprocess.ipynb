{
 "cells": [
  {
   "cell_type": "code",
   "execution_count": 1,
   "metadata": {},
   "outputs": [],
   "source": [
    "import numpy as np\n",
    "import os"
   ]
  },
  {
   "cell_type": "code",
   "execution_count": 23,
   "metadata": {},
   "outputs": [
    {
     "name": "stdout",
     "output_type": "stream",
     "text": [
      "823 imgs\n"
     ]
    }
   ],
   "source": [
    "# load image filenames\n",
    "img_list = []\n",
    "with open(\"../datasets/Hollywood2/list_train.txt\", \"r\") as fin:\n",
    "    for line in fin.readlines():\n",
    "        img_list.append(line.strip())\n",
    "print(f\"{len(img_list)} imgs\")"
   ]
  },
  {
   "cell_type": "code",
   "execution_count": 26,
   "metadata": {},
   "outputs": [
    {
     "name": "stdout",
     "output_type": "stream",
     "text": [
      "823 labels\n"
     ]
    }
   ],
   "source": [
    "# load gender classification predictions\n",
    "preds = np.load(\"../datasets/Hollywood2/inference_outputs/gender_train.npy\")\n",
    "\n",
    "# convert predictions to label index\n",
    "labels = []\n",
    "for p in preds:\n",
    "    if p[0] > p[1]:\n",
    "        l = 0\n",
    "    else:\n",
    "        l = 1\n",
    "    labels.append(l)\n",
    "labels = np.array(labels)\n",
    "print(f\"{len(labels)} labels\")"
   ]
  },
  {
   "cell_type": "code",
   "execution_count": 27,
   "metadata": {},
   "outputs": [
    {
     "name": "stdout",
     "output_type": "stream",
     "text": [
      "70 label=0, 753 label=1\n"
     ]
    }
   ],
   "source": [
    "# class-to-imgs\n",
    "cls2imgs = [np.where(labels == i)[0] for i in [0, 1]]\n",
    "print(f\"{len(cls2imgs[0])} label=0, {len(cls2imgs[1])} label=1\")"
   ]
  },
  {
   "cell_type": "code",
   "execution_count": 32,
   "metadata": {},
   "outputs": [
    {
     "name": "stdout",
     "output_type": "stream",
     "text": [
      "1646 pairs of images\n"
     ]
    }
   ],
   "source": [
    "img_pairs = []\n",
    "sim_labels = []\n",
    "for x1, l1 in zip(img_list, labels):\n",
    "    # randomly select an image with the same label\n",
    "    idx2 = np.random.choice(cls2imgs[l1])\n",
    "    x2 = img_list[idx2]\n",
    "    img_pairs.append([x1, x2])\n",
    "    sim_labels.append([1.])\n",
    "    \n",
    "    # randomly select another label\n",
    "    l3 = np.random.randint(2)\n",
    "    while l3 == l1:\n",
    "        l3 = np.random.randint(2)\n",
    "    idx3 = np.random.choice(cls2imgs[l3])\n",
    "    x3 = img_list[idx3]\n",
    "    img_pairs.append([x1, x3])\n",
    "    sim_labels.append([0.])\n",
    "print(f\"{len(img_pairs)} pairs of images\")"
   ]
  },
  {
   "cell_type": "code",
   "execution_count": 33,
   "metadata": {},
   "outputs": [],
   "source": [
    "# save as txt file\n",
    "with open(\"../datasets/Hollywood2/list_pair_gc_train.txt\", \"w\") as fout:\n",
    "    for img_p, sim in zip(img_pairs, sim_labels):\n",
    "        fout.write(f\"{img_p[0]},{img_p[1]},{sim[0]}\\n\")"
   ]
  },
  {
   "cell_type": "code",
   "execution_count": 34,
   "metadata": {},
   "outputs": [
    {
     "name": "stdout",
     "output_type": "stream",
     "text": [
      "884 imgs\n",
      "884 labels\n",
      "68 label=0, 816 label=1\n",
      "1768 pairs of images\n"
     ]
    }
   ],
   "source": [
    "# same process for testing\n",
    "img_list = []\n",
    "with open(\"../datasets/Hollywood2/list_test.txt\", \"r\") as fin:\n",
    "    for line in fin.readlines():\n",
    "        img_list.append(line.strip())\n",
    "print(f\"{len(img_list)} imgs\")\n",
    "preds = np.load(\"../datasets/Hollywood2/inference_outputs/gender_test.npy\")\n",
    "labels = []\n",
    "for p in preds:\n",
    "    if p[0] > p[1]:\n",
    "        l = 0\n",
    "    else:\n",
    "        l = 1\n",
    "    labels.append(l)\n",
    "labels = np.array(labels)\n",
    "print(f\"{len(labels)} labels\")\n",
    "cls2imgs = [np.where(labels == i)[0] for i in [0, 1]]\n",
    "print(f\"{len(cls2imgs[0])} label=0, {len(cls2imgs[1])} label=1\")\n",
    "img_pairs = []\n",
    "sim_labels = []\n",
    "for x1, l1 in zip(img_list, labels):\n",
    "    # randomly select an image with the same label\n",
    "    idx2 = np.random.choice(cls2imgs[l1])\n",
    "    x2 = img_list[idx2]\n",
    "    img_pairs.append([x1, x2])\n",
    "    sim_labels.append([1.])\n",
    "    \n",
    "    # randomly select another label\n",
    "    l3 = np.random.randint(2)\n",
    "    while l3 == l1:\n",
    "        l3 = np.random.randint(2)\n",
    "    idx3 = np.random.choice(cls2imgs[l3])\n",
    "    x3 = img_list[idx3]\n",
    "    img_pairs.append([x1, x3])\n",
    "    sim_labels.append([0.])\n",
    "print(f\"{len(img_pairs)} pairs of images\")\n",
    "with open(\"../datasets/Hollywood2/list_pair_gc_test.txt\", \"w\") as fout:\n",
    "    for img_p, sim in zip(img_pairs, sim_labels):\n",
    "        fout.write(f\"{img_p[0]},{img_p[1]},{sim[0]}\\n\")"
   ]
  },
  {
   "cell_type": "code",
   "execution_count": null,
   "metadata": {},
   "outputs": [],
   "source": []
  }
 ],
 "metadata": {
  "kernelspec": {
   "display_name": "wfilter",
   "language": "python",
   "name": "wfilter"
  },
  "language_info": {
   "codemirror_mode": {
    "name": "ipython",
    "version": 3
   },
   "file_extension": ".py",
   "mimetype": "text/x-python",
   "name": "python",
   "nbconvert_exporter": "python",
   "pygments_lexer": "ipython3",
   "version": "3.7.10"
  }
 },
 "nbformat": 4,
 "nbformat_minor": 4
}
